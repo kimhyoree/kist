{
 "cells": [
  {
   "cell_type": "code",
   "execution_count": 17,
   "metadata": {},
   "outputs": [
    {
     "name": "stdout",
     "output_type": "stream",
     "text": [
      "Files already downloaded and verified\n",
      "Files already downloaded and verified\n"
     ]
    }
   ],
   "source": [
    "import torch\n",
    "import torchvision\n",
    "import torchvision.transforms as transforms\n",
    "\n",
    "# 데이터셋 로딩 및 전처리\n",
    "transform = transforms.Compose(\n",
    "    [transforms.ToTensor(),  # 이미지를 텐서로 변환. 컴터가 알아먹어야하니까\n",
    "     transforms.Normalize((0.5, 0.5, 0.5), (0.5, 0.5, 0.5))])  # 이미지를 정규화. 데이터 분포의 표준화를 위해! \n",
    "    #다양한 데이터 특징에 덜 민감하게 만들 수 있어서 일반화 성능 향상. 오버피팅 방지\n",
    "\n",
    "trainset = torchvision.datasets.CIFAR10(root='./data', train=True,\n",
    "                                        download=True, transform=transform)  # 학습 데이터셋 로딩\n",
    "trainloader = torch.utils.data.DataLoader(trainset, batch_size=4,\n",
    "                                          shuffle=True, num_workers=2)  # 데이터 로더 생성\n",
    "\n",
    "testset = torchvision.datasets.CIFAR10(root='./data', train=False,\n",
    "                                       download=True, transform=transform)  # 테스트 데이터셋 로딩\n",
    "testloader = torch.utils.data.DataLoader(testset, batch_size=4,\n",
    "                                         shuffle=False, num_workers=2)  # 데이터 로더 생성\n",
    "\n"
   ]
  },
  {
   "cell_type": "code",
   "execution_count": 18,
   "metadata": {},
   "outputs": [],
   "source": [
    "import torch.nn as nn\n",
    "import torch.nn.functional as F\n",
    "\n",
    "# 신경망 정의\n",
    "class Net(nn.Module):\n",
    "    #__init__: 이 함수는 신경망의 구조를 정의\n",
    "    def __init__(self):\n",
    "        super(Net, self).__init__()\n",
    "        self.conv1 = nn.Conv2d(3, 6, 5)  # 3채널(RGB) 입력을  5x5 필터를 사용하여 6채널(6개의 필터)로 컨볼루션하는 레이어\n",
    "        #6개의 서로 다른 5x5 필터를 각각 입력 이미지에 동시에 적용.\n",
    "        # 이 각각의 필터는 이미지의 다른 특징을 학습하고 감지. \n",
    "        # 예를 들어, 하나의 필터는 가장자리를 감지하도록 학습되고, \n",
    "        # 다른 필터는 특정 색상 패턴을 감지하도록 학습 수 있음.\n",
    "\n",
    "        \n",
    "        self.pool = nn.MaxPool2d(2, 2)  # 2x2 맥스 풀링. 맥스풀링은 특징 맴 크기 줄이고(다운 샘플링) 2*2중 가장 큰 값 뽑아 특징강조.\n",
    "        self.conv2 = nn.Conv2d(6, 16, 5)  # 6채널 입력을 16채널로 컨볼루션\n",
    "        self.fc1 = nn.Linear(16 * 5 * 5, 120)  # 16*5*5 차원의 텐서를 120차원으로 선형 변환\n",
    "        self.fc2 = nn.Linear(120, 84)  # 120차원을 84차원으로 선형 변환\n",
    "        self.fc3 = nn.Linear(84, 10)  # 84차원을 10차원으로 선형 변환\n",
    "\n",
    "    def forward(self, x):\n",
    "        x = self.pool(F.relu(self.conv1(x)))  # 컨볼루션 -> ReLU -> 맥스 풀링\n",
    "        x = self.pool(F.relu(self.conv2(x)))  # 컨볼루션 -> ReLU -> 맥스 풀링\n",
    "        x = x.view(-1, 16 * 5 * 5)  # 3차원 텐서를 1차원으로 평탄화\n",
    "        x = F.relu(self.fc1(x))  # 선형 변환 -> ReLU\n",
    "        x = F.relu(self.fc2(x))  # 선형 변환 -> ReLU\n",
    "        x = self.fc3(x)  # 선형 변환\n",
    "        return x\n",
    "\n",
    "net = Net()\n"
   ]
  },
  {
   "cell_type": "code",
   "execution_count": 19,
   "metadata": {},
   "outputs": [
    {
     "name": "stdout",
     "output_type": "stream",
     "text": [
      "[1,  2000] loss: 2.170\n",
      "[1,  4000] loss: 1.791\n",
      "[1,  6000] loss: 1.634\n",
      "[1,  8000] loss: 1.535\n",
      "[1, 10000] loss: 1.510\n",
      "[1, 12000] loss: 1.473\n",
      "[2,  2000] loss: 1.381\n",
      "[2,  4000] loss: 1.380\n",
      "[2,  6000] loss: 1.339\n",
      "[2,  8000] loss: 1.317\n",
      "[2, 10000] loss: 1.318\n",
      "[2, 12000] loss: 1.290\n",
      "Finished Training\n"
     ]
    }
   ],
   "source": [
    "import torch.optim as optim\n",
    "\n",
    "# 손실 함수 및 옵티마이저 설정\n",
    "criterion = nn.CrossEntropyLoss()  # 크로스 엔트로피 손실 함수\n",
    "optimizer = optim.SGD(net.parameters(), lr=0.001, momentum=0.9)  # SGD 옵티마이저 설정\n",
    "\n",
    "# 모델 훈련\n",
    "for epoch in range(2):\n",
    "    running_loss = 0.0\n",
    "    for i, data in enumerate(trainloader, 0):\n",
    "        inputs, labels = data\n",
    "\n",
    "        optimizer.zero_grad()  # 그래디언트 초기화\n",
    "\n",
    "        outputs = net(inputs)  # 모델 순전파\n",
    "        loss = criterion(outputs, labels)  # 손실 계산\n",
    "        loss.backward()  # 역전파\n",
    "        optimizer.step()  # 옵티마이저 업데이트\n",
    "\n",
    "        running_loss += loss.item()\n",
    "        if i % 2000 == 1999:\n",
    "            print('[%d, %5d] loss: %.3f' %\n",
    "                  (epoch + 1, i + 1, running_loss / 2000))\n",
    "            running_loss = 0.0\n",
    "\n",
    "print('Finished Training')\n"
   ]
  },
  {
   "cell_type": "code",
   "execution_count": 20,
   "metadata": {},
   "outputs": [
    {
     "name": "stdout",
     "output_type": "stream",
     "text": [
      "네트워크의 정확도: 53.51%\n"
     ]
    },
    {
     "ename": "",
     "evalue": "",
     "output_type": "error",
     "traceback": [
      "\u001b[1;31m현재 셀 또는 이전 셀에서 코드를 실행하는 동안 Kernel이 충돌했습니다. 셀의 코드를 검토하여 오류의 가능한 원인을 식별하세요. 자세한 내용을 보려면 <a href='https://aka.ms/vscodeJupyterKernelCrash'> 여기 </a> 를 클릭하세요. 자세한 내용은 Jupyter <a href='command:jupyter.viewOutput'>로그</a>를 참조하세요."
     ]
    }
   ],
   "source": [
    "# 모델 테스트\n",
    "correct = 0  # 정확하게 예측한 이미지의 수를 저장하는 변수 초기화\n",
    "total = 0  # 전체 이미지의 수를 저장하는 변수 초기화\n",
    "with torch.no_grad():  # 그라디언트 계산 비활성화\n",
    "    for data in testloader:  # 테스트 데이터셋을 순회\n",
    "        images, labels = data  # 이미지와 레이블을 가져옴\n",
    "        outputs = net(images)  # 이미지를 모델에 입력하여 출력을 얻음\n",
    "        _, predicted = torch.max(outputs.data, 1)  # 가장 높은 확률을 가진 클래스를 선택\n",
    "        total += labels.size(0)  # 전체 이미지 수 업데이트\n",
    "        correct += (predicted == labels).sum().item()  # 정확히 예측한 이미지 수 업데이트\n",
    "\n",
    "# 정확도 출력\n",
    "print(f'네트워크의 정확도: {100 * correct / total}%')\n"
   ]
  }
 ],
 "metadata": {
  "kernelspec": {
   "display_name": "new2",
   "language": "python",
   "name": "python3"
  },
  "language_info": {
   "codemirror_mode": {
    "name": "ipython",
    "version": 3
   },
   "file_extension": ".py",
   "mimetype": "text/x-python",
   "name": "python",
   "nbconvert_exporter": "python",
   "pygments_lexer": "ipython3",
   "version": "3.8.16"
  },
  "orig_nbformat": 4
 },
 "nbformat": 4,
 "nbformat_minor": 2
}
