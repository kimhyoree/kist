{
 "cells": [
  {
   "cell_type": "code",
   "execution_count": null,
   "metadata": {},
   "outputs": [],
   "source": [
    "for lr in learning_rates:\n",
    "    for bs in batch_sizes:\n",
    "        optimizer = optim.SGD(net.parameters(), lr=lr, momentum=0.9)\n",
    "        trainloader = DataLoader(trainset, batch_size=bs, shuffle=True, num_workers=2)\n",
    "        testloader = DataLoader(testset, batch_size=bs, shuffle=False, num_workers=2)\n",
    "\n",
    "        train_loss = []\n",
    "        test_loss = []\n",
    "        for epoch in range(num_epochs):\n",
    "            running_loss = 0.0\n",
    "            net.train()\n",
    "            for i, data in enumerate(trainloader, 0):\n",
    "                inputs, labels = data\n",
    "                inputs, labels = inputs.to('cuda'), labels.to('cuda')\n",
    "                optimizer.zero_grad()\n",
    "\n",
    "                outputs = net(inputs)\n",
    "                loss = criterion(outputs, labels)\n",
    "                loss.backward()\n",
    "                optimizer.step()\n",
    "\n",
    "                running_loss += loss.item()\n",
    "            train_loss.append(running_loss / (i + 1))\n",
    "\n",
    "            running_loss = 0.0\n",
    "            net.eval()\n",
    "            with torch.no_grad():\n",
    "                for i, data in enumerate(testloader, 0):\n",
    "                    inputs, labels = data\n",
    "                    inputs, labels = inputs.to('cuda'), labels.to('cuda')\n",
    "\n",
    "                    outputs = net(inputs)\n",
    "                    loss = criterion(outputs, labels)\n",
    "\n",
    "                    running_loss += loss.item()\n",
    "                    \n",
    "                    # GPU 메모리 해제\n",
    "                    del inputs, labels, outputs\n",
    "                test_loss.append(running_loss / (i + 1))\n",
    "\n",
    "        train_losses.append(train_loss)\n",
    "        test_losses.append(test_loss)\n"
   ]
  }
 ],
 "metadata": {
  "language_info": {
   "name": "python"
  },
  "orig_nbformat": 4
 },
 "nbformat": 4,
 "nbformat_minor": 2
}
